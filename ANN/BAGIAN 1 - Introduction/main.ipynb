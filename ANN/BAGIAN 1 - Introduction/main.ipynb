{
 "cells": [
  {
   "cell_type": "code",
   "execution_count": 5,
   "metadata": {},
   "outputs": [],
   "source": [
    "from sum_arithmetic_formula import sum_arithmetic_formula\n",
    "from sum_arithmetic_loop import sum_arithmetic_loop\n",
    "from test_performance import test_performance"
   ]
  },
  {
   "cell_type": "code",
   "execution_count": 36,
   "metadata": {},
   "outputs": [
    {
     "name": "stdout",
     "output_type": "stream",
     "text": [
      "=== Perbandingan Kecepatan Penjumlahan Deret Aritmetika ===\n",
      "\n",
      "Menghitung jumlah deret dari 1 sampai 10:\n",
      "Menggunakan rumus:\n",
      "Hasil: 55\n",
      "Waktu: 0.0007 ms\n",
      "\n",
      "Menggunakan loop:\n",
      "Hasil: 55\n",
      "Waktu: 0.0179 ms\n",
      "\n",
      "Menghitung jumlah deret dari 1 sampai 1000000:\n",
      "Menggunakan rumus:\n",
      "Hasil: 500000500000\n",
      "Waktu: 0.0012 ms\n",
      "\n",
      "Menggunakan loop:\n",
      "Hasil: 500000500000\n",
      "Waktu: 55.4268 ms\n"
     ]
    }
   ],
   "source": [
    "# Menjalankan tes untuk kedua kasus\n",
    "print(\"=== Perbandingan Kecepatan Penjumlahan Deret Aritmetika ===\")\n",
    "\n",
    "# Kasus 1: 1 sampai 10\n",
    "test_performance(1, 10)\n",
    "\n",
    "# Kasus 2: 1 sampai 1.000.000\n",
    "test_performance(1, 1_000_000)"
   ]
  }
 ],
 "metadata": {
  "kernelspec": {
   "display_name": "pytorch_gpu",
   "language": "python",
   "name": "python3"
  },
  "language_info": {
   "codemirror_mode": {
    "name": "ipython",
    "version": 3
   },
   "file_extension": ".py",
   "mimetype": "text/x-python",
   "name": "python",
   "nbconvert_exporter": "python",
   "pygments_lexer": "ipython3",
   "version": "3.11.11"
  }
 },
 "nbformat": 4,
 "nbformat_minor": 2
}
