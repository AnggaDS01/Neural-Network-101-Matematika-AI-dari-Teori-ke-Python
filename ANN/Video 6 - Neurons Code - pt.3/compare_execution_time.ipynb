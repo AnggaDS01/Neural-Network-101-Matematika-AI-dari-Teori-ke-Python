{
 "cells": [
  {
   "cell_type": "code",
   "execution_count": 1,
   "metadata": {},
   "outputs": [],
   "source": [
    "import numpy as np\n",
    "import timeit\n",
    "\n",
    "from forward_pass import forward_pass\n",
    "from forward_pass_debug import forward_pass_debug\n",
    "from forward_pass_with_numpy import forward_pass_numpy"
   ]
  },
  {
   "cell_type": "code",
   "execution_count": 2,
   "metadata": {},
   "outputs": [
    {
     "name": "stdout",
     "output_type": "stream",
     "text": [
      "6\n"
     ]
    }
   ],
   "source": [
    "X = [\n",
    "\t[100, 3, 2],\n",
    "\t[150, 5, 3],\n",
    "\t[175, 5, 4],\n",
    "\t[200, 6, 3],\n",
    "]\n",
    "\n",
    "W = [\n",
    "\t[0.1, 0.4],\n",
    "\t[0.2, 0.5],\n",
    "\t[0.3, 0.6],\n",
    "]\n",
    "\n",
    "B = [0.0, 0.0]\n",
    "\n",
    "Y = [\n",
    "    [500], \n",
    "    [850], \n",
    "    [900], \n",
    "    [1100]\n",
    "]\n",
    "\n",
    "print(X[3][1])"
   ]
  },
  {
   "cell_type": "code",
   "execution_count": 3,
   "metadata": {},
   "outputs": [
    {
     "name": "stdout",
     "output_type": "stream",
     "text": [
      "|11.20\t42.70|\n",
      "|16.90\t64.30|\n",
      "|19.70\t74.90|\n",
      "|22.10\t84.80|\n",
      "\n"
     ]
    }
   ],
   "source": [
    "y11 = X[0][0] * W[0][0] + X[0][1] * W[1][0] + X[0][2] * W[2][0] + B[0]\n",
    "y21 = X[1][0] * W[0][0] + X[1][1] * W[1][0] + X[1][2] * W[2][0] + B[0]\n",
    "y31 = X[2][0] * W[0][0] + X[2][1] * W[1][0] + X[2][2] * W[2][0] + B[0]\n",
    "y41 = X[3][0] * W[0][0] + X[3][1] * W[1][0] + X[3][2] * W[2][0] + B[0]\n",
    "\n",
    "y12 = X[0][0] * W[0][1] + X[0][1] * W[1][1] + X[0][2] * W[2][1] + B[1]\n",
    "y22 = X[1][0] * W[0][1] + X[1][1] * W[1][1] + X[1][2] * W[2][1] + B[1]\n",
    "y32 = X[2][0] * W[0][1] + X[2][1] * W[1][1] + X[2][2] * W[2][1] + B[1]\n",
    "y42 = X[3][0] * W[0][1] + X[3][1] * W[1][1] + X[3][2] * W[2][1] + B[1]\n",
    "\n",
    "print(\n",
    "\tf'|{y11:.2f}\\t{y12:.2f}|\\n'\n",
    "\tf'|{y21:.2f}\\t{y22:.2f}|\\n'\n",
    "\tf'|{y31:.2f}\\t{y32:.2f}|\\n'\n",
    "\tf'|{y41:.2f}\\t{y42:.2f}|\\n'\n",
    ")"
   ]
  },
  {
   "cell_type": "code",
   "execution_count": 4,
   "metadata": {},
   "outputs": [
    {
     "name": "stdout",
     "output_type": "stream",
     "text": [
      "\n",
      "=== Mulai iterasi i=0, j=0 ===\n",
      "Z[0][0] start (bias): 0.0\n",
      "  - Iterasi k=0\n",
      "    + X[0][0] * W[0][0] => (100) * (0.1) = 10.0\n",
      "      -> Z[0][0] now: 10.0\n",
      "  - Iterasi k=1\n",
      "    + X[0][1] * W[1][0] => (3) * (0.2) = 0.6000000000000001\n",
      "      -> Z[0][0] now: 10.6\n",
      "  - Iterasi k=2\n",
      "    + X[0][2] * W[2][0] => (2) * (0.3) = 0.6\n",
      "      -> Z[0][0] now: 11.2\n",
      "\n",
      "Matriks Z setelah update:\n",
      "[11.2, 0]\n",
      "[0, 0]\n",
      "[0, 0]\n",
      "[0, 0]\n",
      "------------------------------\n",
      "\n",
      "=== Mulai iterasi i=0, j=1 ===\n",
      "Z[0][1] start (bias): 0.0\n",
      "  - Iterasi k=0\n",
      "    + X[0][0] * W[0][1] => (100) * (0.4) = 40.0\n",
      "      -> Z[0][1] now: 40.0\n",
      "  - Iterasi k=1\n",
      "    + X[0][1] * W[1][1] => (3) * (0.5) = 1.5\n",
      "      -> Z[0][1] now: 41.5\n",
      "  - Iterasi k=2\n",
      "    + X[0][2] * W[2][1] => (2) * (0.6) = 1.2\n",
      "      -> Z[0][1] now: 42.7\n",
      "\n",
      "Matriks Z setelah update:\n",
      "[11.2, 42.7]\n",
      "[0, 0]\n",
      "[0, 0]\n",
      "[0, 0]\n",
      "------------------------------\n",
      "\n",
      "=== Mulai iterasi i=1, j=0 ===\n",
      "Z[1][0] start (bias): 0.0\n",
      "  - Iterasi k=0\n",
      "    + X[1][0] * W[0][0] => (150) * (0.1) = 15.0\n",
      "      -> Z[1][0] now: 15.0\n",
      "  - Iterasi k=1\n",
      "    + X[1][1] * W[1][0] => (5) * (0.2) = 1.0\n",
      "      -> Z[1][0] now: 16.0\n",
      "  - Iterasi k=2\n",
      "    + X[1][2] * W[2][0] => (3) * (0.3) = 0.8999999999999999\n",
      "      -> Z[1][0] now: 16.9\n",
      "\n",
      "Matriks Z setelah update:\n",
      "[11.2, 42.7]\n",
      "[16.9, 0]\n",
      "[0, 0]\n",
      "[0, 0]\n",
      "------------------------------\n",
      "\n",
      "=== Mulai iterasi i=1, j=1 ===\n",
      "Z[1][1] start (bias): 0.0\n",
      "  - Iterasi k=0\n",
      "    + X[1][0] * W[0][1] => (150) * (0.4) = 60.0\n",
      "      -> Z[1][1] now: 60.0\n",
      "  - Iterasi k=1\n",
      "    + X[1][1] * W[1][1] => (5) * (0.5) = 2.5\n",
      "      -> Z[1][1] now: 62.5\n",
      "  - Iterasi k=2\n",
      "    + X[1][2] * W[2][1] => (3) * (0.6) = 1.7999999999999998\n",
      "      -> Z[1][1] now: 64.3\n",
      "\n",
      "Matriks Z setelah update:\n",
      "[11.2, 42.7]\n",
      "[16.9, 64.3]\n",
      "[0, 0]\n",
      "[0, 0]\n",
      "------------------------------\n",
      "\n",
      "=== Mulai iterasi i=2, j=0 ===\n",
      "Z[2][0] start (bias): 0.0\n",
      "  - Iterasi k=0\n",
      "    + X[2][0] * W[0][0] => (175) * (0.1) = 17.5\n",
      "      -> Z[2][0] now: 17.5\n",
      "  - Iterasi k=1\n",
      "    + X[2][1] * W[1][0] => (5) * (0.2) = 1.0\n",
      "      -> Z[2][0] now: 18.5\n",
      "  - Iterasi k=2\n",
      "    + X[2][2] * W[2][0] => (4) * (0.3) = 1.2\n",
      "      -> Z[2][0] now: 19.7\n",
      "\n",
      "Matriks Z setelah update:\n",
      "[11.2, 42.7]\n",
      "[16.9, 64.3]\n",
      "[19.7, 0]\n",
      "[0, 0]\n",
      "------------------------------\n",
      "\n",
      "=== Mulai iterasi i=2, j=1 ===\n",
      "Z[2][1] start (bias): 0.0\n",
      "  - Iterasi k=0\n",
      "    + X[2][0] * W[0][1] => (175) * (0.4) = 70.0\n",
      "      -> Z[2][1] now: 70.0\n",
      "  - Iterasi k=1\n",
      "    + X[2][1] * W[1][1] => (5) * (0.5) = 2.5\n",
      "      -> Z[2][1] now: 72.5\n",
      "  - Iterasi k=2\n",
      "    + X[2][2] * W[2][1] => (4) * (0.6) = 2.4\n",
      "      -> Z[2][1] now: 74.9\n",
      "\n",
      "Matriks Z setelah update:\n",
      "[11.2, 42.7]\n",
      "[16.9, 64.3]\n",
      "[19.7, 74.9]\n",
      "[0, 0]\n",
      "------------------------------\n",
      "\n",
      "=== Mulai iterasi i=3, j=0 ===\n",
      "Z[3][0] start (bias): 0.0\n",
      "  - Iterasi k=0\n",
      "    + X[3][0] * W[0][0] => (200) * (0.1) = 20.0\n",
      "      -> Z[3][0] now: 20.0\n",
      "  - Iterasi k=1\n",
      "    + X[3][1] * W[1][0] => (6) * (0.2) = 1.2000000000000002\n",
      "      -> Z[3][0] now: 21.2\n",
      "  - Iterasi k=2\n",
      "    + X[3][2] * W[2][0] => (3) * (0.3) = 0.8999999999999999\n",
      "      -> Z[3][0] now: 22.099999999999998\n",
      "\n",
      "Matriks Z setelah update:\n",
      "[11.2, 42.7]\n",
      "[16.9, 64.3]\n",
      "[19.7, 74.9]\n",
      "[22.099999999999998, 0]\n",
      "------------------------------\n",
      "\n",
      "=== Mulai iterasi i=3, j=1 ===\n",
      "Z[3][1] start (bias): 0.0\n",
      "  - Iterasi k=0\n",
      "    + X[3][0] * W[0][1] => (200) * (0.4) = 80.0\n",
      "      -> Z[3][1] now: 80.0\n",
      "  - Iterasi k=1\n",
      "    + X[3][1] * W[1][1] => (6) * (0.5) = 3.0\n",
      "      -> Z[3][1] now: 83.0\n",
      "  - Iterasi k=2\n",
      "    + X[3][2] * W[2][1] => (3) * (0.6) = 1.7999999999999998\n",
      "      -> Z[3][1] now: 84.8\n",
      "\n",
      "Matriks Z setelah update:\n",
      "[11.2, 42.7]\n",
      "[16.9, 64.3]\n",
      "[19.7, 74.9]\n",
      "[22.099999999999998, 84.8]\n",
      "------------------------------\n",
      "[11.2, 42.7]\n",
      "[16.9, 64.3]\n",
      "[19.7, 74.9]\n",
      "[22.099999999999998, 84.8]\n"
     ]
    }
   ],
   "source": [
    "output = forward_pass_debug(X, W, B, True)\n",
    "for row in output:\n",
    "    print(row)"
   ]
  },
  {
   "cell_type": "code",
   "execution_count": 5,
   "metadata": {},
   "outputs": [
    {
     "name": "stdout",
     "output_type": "stream",
     "text": [
      "[[11.2 42.7]\n",
      " [16.9 64.3]\n",
      " [19.7 74.9]\n",
      " [22.1 84.8]]\n"
     ]
    }
   ],
   "source": [
    "X_np = np.array(X)\n",
    "W_np = np.array(W)\n",
    "B_np = np.array(B)\n",
    "\n",
    "output = forward_pass_numpy(X_np, W_np, B_np)\n",
    "print(output)"
   ]
  },
  {
   "cell_type": "code",
   "execution_count": 6,
   "metadata": {},
   "outputs": [
    {
     "name": "stdout",
     "output_type": "stream",
     "text": [
      "Manual Implementation Time: 0.058335 seconds\n",
      "NumPy Implementation Time: 0.038781 seconds\n",
      "NumPy is approximately 1.50x faster!\n"
     ]
    }
   ],
   "source": [
    "# Benchmarking\n",
    "manual_time = timeit.timeit(lambda: forward_pass(X, W, B), number=10000)\n",
    "numpy_time = timeit.timeit(lambda: forward_pass_numpy(X_np, W_np, B_np), number=10000)\n",
    "\n",
    "# Hasil Benchmark\n",
    "print(f\"Manual Implementation Time: {manual_time:.6f} seconds\")\n",
    "print(f\"NumPy Implementation Time: {numpy_time:.6f} seconds\")\n",
    "print(f\"NumPy is approximately {manual_time / numpy_time:.2f}x faster!\")"
   ]
  }
 ],
 "metadata": {
  "kernelspec": {
   "display_name": "pytorch_gpu",
   "language": "python",
   "name": "python3"
  },
  "language_info": {
   "codemirror_mode": {
    "name": "ipython",
    "version": 3
   },
   "file_extension": ".py",
   "mimetype": "text/x-python",
   "name": "python",
   "nbconvert_exporter": "python",
   "pygments_lexer": "ipython3",
   "version": "3.11.11"
  }
 },
 "nbformat": 4,
 "nbformat_minor": 2
}
