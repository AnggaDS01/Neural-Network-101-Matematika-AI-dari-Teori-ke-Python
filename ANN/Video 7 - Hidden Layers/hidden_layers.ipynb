{
 "cells": [
  {
   "cell_type": "code",
   "execution_count": 1,
   "metadata": {},
   "outputs": [],
   "source": [
    "import numpy as np\n",
    "from forward_pass import forward_pass\n",
    "from NeuralNet import Linear"
   ]
  },
  {
   "cell_type": "code",
   "execution_count": 2,
   "metadata": {},
   "outputs": [],
   "source": [
    "X = np.array([\n",
    "\t[100, 3, 2],\n",
    "\t[150, 5, 3],\n",
    "\t[175, 5, 4],\n",
    "\t[200, 6, 3],\n",
    "])\n",
    "\n",
    "Y = np.array([\n",
    "\t[500], \n",
    "\t[850], \n",
    "\t[900], \n",
    "\t[1100]\n",
    "])\n",
    "\n",
    "# ============ PARAMETERS - LAYER 1 ============\n",
    "W = np.array([\n",
    "\t[0.1, 0.4],\n",
    "\t[0.2, 0.5],\n",
    "\t[0.3, 0.6],\n",
    "])\n",
    "\n",
    "B = np.array([0.0, 0.0])"
   ]
  },
  {
   "cell_type": "code",
   "execution_count": 3,
   "metadata": {},
   "outputs": [
    {
     "name": "stdout",
     "output_type": "stream",
     "text": [
      "[[11.2 42.7]\n",
      " [16.9 64.3]\n",
      " [19.7 74.9]\n",
      " [22.1 84.8]]\n"
     ]
    }
   ],
   "source": [
    "output = forward_pass(X, W, B)\n",
    "print(output)"
   ]
  },
  {
   "cell_type": "code",
   "execution_count": 4,
   "metadata": {},
   "outputs": [
    {
     "name": "stdout",
     "output_type": "stream",
     "text": [
      "[[12.355 28.525 39.305]\n",
      " [18.61  42.97  59.21 ]\n",
      " [21.68  50.06  68.98 ]\n",
      " [24.515 56.585 77.965]]\n"
     ]
    }
   ],
   "source": [
    "# ============ PARAMETERS - LAYER 2 ============\n",
    "W_2 = np.array([\n",
    "\t[0.15, 0.45, 0.65],\n",
    "\t[0.25, 0.55, 0.75],\n",
    "])\n",
    "\n",
    "B_2 = np.array([0.0, 0.0, 0.0])\n",
    "\n",
    "# ============ FORWARD PASS ============\n",
    "# X dim: (4, 3), W dim: (3, 2), B' dim: (4, 2) -> Z_1 dim: (4, 2)\n",
    "Z_1 = np.dot(X, W) + B\n",
    "# Z_1 dim: (4, 2), W dim: (2, 3), B' dim: (4, 3) -> Z_2 dim: (4, 3)\n",
    "Z_2 = np.dot(Z_1, W_2) + B_2\n",
    "print(Z_2)"
   ]
  },
  {
   "cell_type": "code",
   "execution_count": 5,
   "metadata": {},
   "outputs": [
    {
     "name": "stdout",
     "output_type": "stream",
     "text": [
      "[[22.74125]\n",
      " [34.2575 ]\n",
      " [39.91   ]\n",
      " [45.11125]]\n"
     ]
    }
   ],
   "source": [
    "# ============ PARAMETERS - OUTPUT LAYER ============\n",
    "W_output = np.array([\n",
    "\t[0.15],\n",
    "\t[0.25],\n",
    "\t[0.35],\n",
    "])\n",
    "\n",
    "B_output = np.array([0.0])\n",
    "\n",
    "# ============ FORWARD PASS ============\n",
    "# X dim: (4, 3), W dim: (3, 2), B' dim: (4, 2) -> Z_1 dim: (4, 2)\n",
    "Z_1 = np.dot(X, W) + B\n",
    "# Z_1 dim: (4, 2), W dim: (2, 3), B' dim: (4, 3) -> Z_2 dim: (4, 3)\n",
    "Z_2 = np.dot(Z_1, W_2) + B_2\n",
    "# Z_2 dim: (4, 3), W dim: (3, 1), B' dim: (4, 1) -> Z_2 dim: (4, 1)\n",
    "Y_pred = np.dot(Z_2, W_output) + B_output\n",
    "print(Y_pred)"
   ]
  },
  {
   "cell_type": "code",
   "execution_count": 6,
   "metadata": {},
   "outputs": [
    {
     "name": "stdout",
     "output_type": "stream",
     "text": [
      "[[0.00020923]\n",
      " [0.00031534]\n",
      " [0.0003687 ]\n",
      " [0.0004119 ]]\n"
     ]
    }
   ],
   "source": [
    "np.random.seed(1)\n",
    "\n",
    "X = np.array([\n",
    "\t[100, 3, 2],\n",
    "\t[150, 5, 3],\n",
    "\t[175, 5, 4],\n",
    "\t[200, 6, 3],\n",
    "])\n",
    "\n",
    "# ============ PARAMETERS - LAYER 1 ============\n",
    "W = np.random.randn(3, 2) * 0.01\n",
    "B = np.zeros((1, 2))\n",
    "\n",
    "# ============ PARAMETERS - LAYER 2 ============\n",
    "W_2 =  np.random.randn(2, 3) * 0.01\n",
    "B_2 = np.zeros((1, 3))\n",
    "\n",
    "# ============ PARAMETERS - OUTPUT LAYER ============\n",
    "W_output = np.random.randn(3, 1) * 0.01\n",
    "B_output = np.zeros((1, 1)) \n",
    "\n",
    "# ============ FORWARD PASS ============\n",
    "# X dim: (4, 3), W dim: (3, 2), B' dim: (4, 2) -> Z_1 dim: (4, 2)\n",
    "Z_1 = np.dot(X, W) + B\n",
    "# Z_1 dim: (4, 2), W dim: (2, 3), B' dim: (4, 3) -> Z_2 dim: (4, 3)\n",
    "Z_2 = np.dot(Z_1, W_2) + B_2\n",
    "# Z_2 dim: (4, 3), W dim: (3, 1), B' dim: (4, 1) -> Z_2 dim: (4, 1)\n",
    "Y_pred = np.dot(Z_2, W_output) + B_output\n",
    "print(Y_pred)"
   ]
  },
  {
   "cell_type": "code",
   "execution_count": null,
   "metadata": {},
   "outputs": [
    {
     "name": "stdout",
     "output_type": "stream",
     "text": [
      "Final output shape: (4, 1)\n",
      "Final output:\n",
      " [[0.00020923]\n",
      " [0.00031534]\n",
      " [0.0003687 ]\n",
      " [0.0004119 ]]\n"
     ]
    }
   ],
   "source": [
    "# Set seed untuk reproducibility\n",
    "np.random.seed(1)\n",
    "\n",
    "X = np.array([\n",
    "\t[100, 3, 2],\n",
    "\t[150, 5, 3],\n",
    "\t[175, 5, 4],\n",
    "\t[200, 6, 3],\n",
    "])\n",
    "\n",
    "# Inisialisasi layer-layer\n",
    "# Layer 1: 3 input -> 2 output\n",
    "input_to_hidden_layer = Linear(in_features=3, out_features=2) \n",
    "# Layer 2: 2 input -> 3 output\n",
    "hidden_to_hidden_layer = Linear(in_features=2, out_features=3)\n",
    "  # Layer 3: 3 input -> 1 output\n",
    "hidden_to_output_layer = Linear(in_features=3, out_features=1)\n",
    "\n",
    "# Forward pass melalui jaringan\n",
    "Z_1 = input_to_hidden_layer.forward(X)  # Output dari layer 1\n",
    "Z_2 = hidden_to_hidden_layer.forward(Z_1)  # Output dari layer 2\n",
    "Y_pred = hidden_to_output_layer.forward(Z_2)  # Output akhir\n",
    "\n",
    "# Cetak hasil prediksi\n",
    "print(\"Final output shape:\", Y_pred.shape)\n",
    "print(\"Final output:\\n\", Y_pred)"
   ]
  }
 ],
 "metadata": {
  "kernelspec": {
   "display_name": "pytorch_gpu",
   "language": "python",
   "name": "python3"
  },
  "language_info": {
   "codemirror_mode": {
    "name": "ipython",
    "version": 3
   },
   "file_extension": ".py",
   "mimetype": "text/x-python",
   "name": "python",
   "nbconvert_exporter": "python",
   "pygments_lexer": "ipython3",
   "version": "3.11.11"
  }
 },
 "nbformat": 4,
 "nbformat_minor": 2
}
