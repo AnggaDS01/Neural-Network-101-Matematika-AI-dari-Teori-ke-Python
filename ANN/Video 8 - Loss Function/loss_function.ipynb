{
 "cells": [
  {
   "cell_type": "code",
   "execution_count": null,
   "metadata": {},
   "outputs": [],
   "source": [
    "import numpy as np\n",
    "from NeuralNet import Linear\n",
    "from NeuralNet import MeanSquaredError"
   ]
  },
  {
   "cell_type": "code",
   "execution_count": 2,
   "metadata": {},
   "outputs": [
    {
     "name": "stdout",
     "output_type": "stream",
     "text": [
      "Final output shape: (4, 1)\n",
      "Final output:\n",
      " [[0.00020923]\n",
      " [0.00031534]\n",
      " [0.0003687 ]\n",
      " [0.0004119 ]]\n"
     ]
    }
   ],
   "source": [
    "# Set seed untuk reproducibility\n",
    "np.random.seed(1)\n",
    "\n",
    "X = np.array([\n",
    "\t[100, 3, 2],\n",
    "\t[150, 5, 3],\n",
    "\t[175, 5, 4],\n",
    "\t[200, 6, 3],\n",
    "])\n",
    "\n",
    "# Inisialisasi layer-layer\n",
    "input_to_hidden_layer = Linear(in_features=3, out_features=2)  # Layer 1: 3 input -> 2 output\n",
    "hidden_to_hidden_layer = Linear(in_features=2, out_features=3)  # Layer 2: 2 input -> 3 output\n",
    "hidden_to_output_layer = Linear(in_features=3, out_features=1)  # Layer 3: 3 input -> 1 output\n",
    "\n",
    "# Forward pass melalui jaringan\n",
    "Z_1 = input_to_hidden_layer.forward(X)  # Output dari layer 1\n",
    "Z_2 = hidden_to_hidden_layer.forward(Z_1)  # Output dari layer 2\n",
    "Y_pred = hidden_to_output_layer.forward(Z_2)  # Output akhir\n",
    "\n",
    "# Cetak hasil prediksi\n",
    "print(\"Final output shape:\", Y_pred.shape)\n",
    "print(\"Final output:\\n\", Y_pred)"
   ]
  },
  {
   "cell_type": "code",
   "execution_count": 3,
   "metadata": {},
   "outputs": [
    {
     "name": "stdout",
     "output_type": "stream",
     "text": [
      "nilai sebenarnya (target):\n",
      " [[ 500]\n",
      " [ 850]\n",
      " [ 900]\n",
      " [1100]]\n",
      "\n",
      "nilai prediksi:\n",
      " [[0.00020923]\n",
      " [0.00031534]\n",
      " [0.0003687 ]\n",
      " [0.0004119 ]]\n",
      "\n",
      "element wise error:\n",
      " [[ 499.99979077]\n",
      " [ 849.99968466]\n",
      " [ 899.9996313 ]\n",
      " [1099.9995881 ]]\n"
     ]
    }
   ],
   "source": [
    "Y = np.array([\n",
    "\t[500],\n",
    "\t[850],\n",
    "\t[900],\n",
    "\t[1100],\n",
    "])\n",
    "\n",
    "Y_pred = np.array([\n",
    " [0.00020923],\n",
    " [0.00031534],\n",
    " [0.0003687 ],\n",
    " [0.0004119 ]\n",
    "])\n",
    "\n",
    "# Hitung selisih antara prediksi dan target\n",
    "element_wise_error = Y - Y_pred\n",
    "print(\"nilai sebenarnya (target):\\n\", Y)\n",
    "print(\"\\nnilai prediksi:\\n\", Y_pred)\n",
    "print(\"\\nelement wise error:\\n\", element_wise_error)"
   ]
  },
  {
   "cell_type": "code",
   "execution_count": 4,
   "metadata": {},
   "outputs": [
    {
     "name": "stdout",
     "output_type": "stream",
     "text": [
      "element wise error:\n",
      " [[ 499.99979077]\n",
      " [ 849.99968466]\n",
      " [ 899.9996313 ]\n",
      " [1099.9995881 ]]\n",
      "\n",
      "squared error:\n",
      " [[ 249999.79077004]\n",
      " [ 722499.4639221 ]\n",
      " [ 809999.33634014]\n",
      " [1209999.09382017]]\n"
     ]
    }
   ],
   "source": [
    "Y = np.array([\n",
    "\t[500],\n",
    "\t[850],\n",
    "\t[900],\n",
    "\t[1100],\n",
    "])\n",
    "\n",
    "Y_pred = np.array([\n",
    " [0.00020923],\n",
    " [0.00031534],\n",
    " [0.0003687 ],\n",
    " [0.0004119 ]\n",
    "])\n",
    "\n",
    "# Hitung selisih antara prediksi dan target\n",
    "element_wise_error = Y - Y_pred\n",
    "print(\"element wise error:\\n\", element_wise_error)\n",
    "\n",
    "# Kuadratkan selisih\n",
    "squared_error = np.square(element_wise_error)\n",
    "print(\"\\nsquared error:\\n\", squared_error)"
   ]
  },
  {
   "cell_type": "code",
   "execution_count": 5,
   "metadata": {},
   "outputs": [
    {
     "name": "stdout",
     "output_type": "stream",
     "text": [
      "element wise error:\n",
      " [[ 499.99979077]\n",
      " [ 849.99968466]\n",
      " [ 899.9996313 ]\n",
      " [1099.9995881 ]]\n",
      "\n",
      "squared error:\n",
      " [[ 249999.79077004]\n",
      " [ 722499.4639221 ]\n",
      " [ 809999.33634014]\n",
      " [1209999.09382017]]\n",
      "\n",
      "MSE Loss: 748124.4212131122\n"
     ]
    }
   ],
   "source": [
    "Y = np.array([\n",
    "\t[500],\n",
    "\t[850],\n",
    "\t[900],\n",
    "\t[1100],\n",
    "])\n",
    "\n",
    "Y_pred = np.array([\n",
    " [0.00020923],\n",
    " [0.00031534],\n",
    " [0.0003687 ],\n",
    " [0.0004119 ]\n",
    "])\n",
    "\n",
    "# Hitung selisih antara prediksi dan target\n",
    "element_wise_error = Y - Y_pred\n",
    "print(\"element wise error:\\n\", element_wise_error)\n",
    "\n",
    "\n",
    "# Kuadratkan selisih\n",
    "squared_error = np.square(element_wise_error)\n",
    "print(\"\\nsquared error:\\n\", squared_error)\n",
    "\n",
    "# Hitung rata-rata dari kuadrat selisih\n",
    "mse_loss = np.mean(squared_error)\n",
    "print(\"\\nMSE Loss:\", mse_loss)"
   ]
  },
  {
   "cell_type": "code",
   "execution_count": null,
   "metadata": {},
   "outputs": [
    {
     "name": "stdout",
     "output_type": "stream",
     "text": [
      "MSE Loss: 748124.4212131122\n"
     ]
    }
   ],
   "source": [
    "Y = np.array([\n",
    "\t[500],\n",
    "\t[850],\n",
    "\t[900],\n",
    "\t[1100],\n",
    "])\n",
    "\n",
    "Y_pred = np.array([\n",
    " [0.00020923],\n",
    " [0.00031534],\n",
    " [0.0003687 ],\n",
    " [0.0004119 ]\n",
    "])\n",
    "\n",
    "# Hitung rata-rata dari kuadrat selisih\n",
    "loss = MeanSquaredError()\n",
    "mse_loss = loss.calculate(Y, Y_pred)\n",
    "print(\"MSE Loss:\", mse_loss)"
   ]
  }
 ],
 "metadata": {
  "kernelspec": {
   "display_name": "pytorch_gpu",
   "language": "python",
   "name": "python3"
  },
  "language_info": {
   "codemirror_mode": {
    "name": "ipython",
    "version": 3
   },
   "file_extension": ".py",
   "mimetype": "text/x-python",
   "name": "python",
   "nbconvert_exporter": "python",
   "pygments_lexer": "ipython3",
   "version": "3.11.11"
  }
 },
 "nbformat": 4,
 "nbformat_minor": 2
}
